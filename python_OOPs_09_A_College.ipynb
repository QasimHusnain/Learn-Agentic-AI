{
  "nbformat": 4,
  "nbformat_minor": 0,
  "metadata": {
    "colab": {
      "provenance": [],
      "authorship_tag": "ABX9TyPuDzK3jWtqY9oZCmZ3CWk6",
      "include_colab_link": true
    },
    "kernelspec": {
      "name": "python3",
      "display_name": "Python 3"
    },
    "language_info": {
      "name": "python"
    }
  },
  "cells": [
    {
      "cell_type": "markdown",
      "metadata": {
        "id": "view-in-github",
        "colab_type": "text"
      },
      "source": [
        "<a href=\"https://colab.research.google.com/github/QasimHusnain/Learn-Agentic-AI/blob/main/python_OOPs_09_A_College.ipynb\" target=\"_parent\"><img src=\"https://colab.research.google.com/assets/colab-badge.svg\" alt=\"Open In Colab\"/></a>"
      ]
    },
    {
      "cell_type": "markdown",
      "source": [
        "## To delete any object or attribute\n",
        "\n",
        "## del\n",
        "To delete an object, attribute, or method, we use the __del__ keyword.\n"
      ],
      "metadata": {
        "id": "AsJEp6XwNDYo"
      }
    },
    {
      "cell_type": "code",
      "execution_count": null,
      "metadata": {
        "colab": {
          "base_uri": "https://localhost:8080/"
        },
        "id": "AL-AmJzRKr2C",
        "outputId": "295d2e9f-6953-403b-b904-dce640b78d90"
      },
      "outputs": [
        {
          "output_type": "stream",
          "name": "stdout",
          "text": [
            "John\n",
            "20\n"
          ]
        }
      ],
      "source": [
        "class Student:\n",
        "    def __init__(self,name,age):\n",
        "        self.name = name\n",
        "        self.age = age\n",
        "\n",
        "obj1=Student(\"John\",20)\n",
        "\n",
        "print(obj1.name)\n",
        "print(obj1.age)\n",
        "del obj1.name  # To delete an object's attribute\n",
        "# print(obj1.name)  #output: 'Student' object has no attribute 'name'\n",
        "# del obj1  # To delete the object itself\n",
        "# print(obj1.age) #output: NameError: name 'obj1' is not defined\n"
      ]
    },
    {
      "cell_type": "markdown",
      "source": [
        "## Private and Public Attributes and Methods\n",
        "##### Public Attribute:\n",
        "An attribute or property that can be accessed outside the class.\n",
        "\n",
        "##### Private Attribute:\n",
        "An attribute or property that cannot be accessed directly outside the class.\n",
        "\n",
        "For example, consider a class Account with properties for account number and account password. Allowing access to the account number outside the class is not ideal. To prevent this, make it private.\n",
        "1. Private attributes can be accessed within the class, e.g., in any method within the class.\n",
        "2. They cannot be accessed directly outside the class.\n",
        "\n",
        "### Tip:\n",
        "To access a private attribute outside the class, create a method that returns its value and call that method from outside the class."
      ],
      "metadata": {
        "id": "35ZiDfu1QIMi"
      }
    },
    {
      "cell_type": "code",
      "source": [
        "class Account:\n",
        "    def __init__(self, acc_num, acc_pass):\n",
        "        self.acc_num = acc_num  # Public attribute\n",
        "        # To make an attribute private, add two time underscore __ before the attribute name\n",
        "        self.__acc_pass = acc_pass  # Private attribute\n",
        "\n",
        "acc1 = Account(123456789, \"ab123\")\n",
        "print(acc1.acc_num)  # Output: 123456789\n",
        "print(acc1.__acc_pass)  # Output: AttributeError: 'Account' object has no attribute '__acc_pass'"
      ],
      "metadata": {
        "colab": {
          "base_uri": "https://localhost:8080/",
          "height": 193
        },
        "collapsed": true,
        "id": "-9Jqm0wfNO4q",
        "outputId": "285e437c-f751-46d4-ad15-2718897c5328"
      },
      "execution_count": null,
      "outputs": [
        {
          "output_type": "stream",
          "name": "stdout",
          "text": [
            "123456789\n"
          ]
        },
        {
          "output_type": "error",
          "ename": "AttributeError",
          "evalue": "'Account' object has no attribute '__acc_pass'",
          "traceback": [
            "\u001b[0;31m---------------------------------------------------------------------------\u001b[0m",
            "\u001b[0;31mAttributeError\u001b[0m                            Traceback (most recent call last)",
            "\u001b[0;32m/tmp/ipython-input-541855734.py\u001b[0m in \u001b[0;36m<cell line: 0>\u001b[0;34m()\u001b[0m\n\u001b[1;32m      7\u001b[0m \u001b[0macc1\u001b[0m \u001b[0;34m=\u001b[0m \u001b[0mAccount\u001b[0m\u001b[0;34m(\u001b[0m\u001b[0;36m123456789\u001b[0m\u001b[0;34m,\u001b[0m \u001b[0;34m\"ab123\"\u001b[0m\u001b[0;34m)\u001b[0m\u001b[0;34m\u001b[0m\u001b[0;34m\u001b[0m\u001b[0m\n\u001b[1;32m      8\u001b[0m \u001b[0mprint\u001b[0m\u001b[0;34m(\u001b[0m\u001b[0macc1\u001b[0m\u001b[0;34m.\u001b[0m\u001b[0macc_num\u001b[0m\u001b[0;34m)\u001b[0m  \u001b[0;31m# Output: 123456789\u001b[0m\u001b[0;34m\u001b[0m\u001b[0;34m\u001b[0m\u001b[0m\n\u001b[0;32m----> 9\u001b[0;31m \u001b[0mprint\u001b[0m\u001b[0;34m(\u001b[0m\u001b[0macc1\u001b[0m\u001b[0;34m.\u001b[0m\u001b[0m__acc_pass\u001b[0m\u001b[0;34m)\u001b[0m  \u001b[0;31m# Output: AttributeError: 'Account' object has no attribute '__acc_pass'\u001b[0m\u001b[0;34m\u001b[0m\u001b[0;34m\u001b[0m\u001b[0m\n\u001b[0m",
            "\u001b[0;31mAttributeError\u001b[0m: 'Account' object has no attribute '__acc_pass'"
          ]
        }
      ]
    },
    {
      "cell_type": "markdown",
      "source": [
        "### To access a private attribute\n",
        "To scces a private attribue outside the class, create method within the class and call that method from outside the class"
      ],
      "metadata": {
        "id": "Anw94EtyRWKy"
      }
    },
    {
      "cell_type": "code",
      "source": [
        "class Account:\n",
        "    def __init__(self, acc_num, acc_pass):\n",
        "        self.acc_num = acc_num  # Public attribute\n",
        "        # To make an attribute private, add two time underscore __ before the attribute name\n",
        "        self.__acc_pass = acc_pass  # Private attribute\n",
        "\n",
        "        # To access a private attribute, create a method that returns its value and call that method.\n",
        "    def get_acc_pass(self):\n",
        "        return self.__acc_pass\n",
        "\n",
        "acc1 = Account(123456789, \"ab123\")\n",
        "print(acc1.acc_num)  # Output: 123456789\n",
        "print(acc1.get_acc_pass())\n"
      ],
      "metadata": {
        "colab": {
          "base_uri": "https://localhost:8080/"
        },
        "id": "eO0Ft17vQvhF",
        "outputId": "3e71d869-f151-4de9-cd2f-47da77b87248"
      },
      "execution_count": null,
      "outputs": [
        {
          "output_type": "stream",
          "name": "stdout",
          "text": [
            "123456789\n",
            "ab123\n"
          ]
        }
      ]
    },
    {
      "cell_type": "markdown",
      "source": [
        "## Private Methods:\n",
        "\n",
        "To make a method private, add __ before the method name.\n",
        "\n",
        "### Tip:\n",
        " A private method can be called indirectly through another public method."
      ],
      "metadata": {
        "id": "ZspMZ3K3SFJO"
      }
    },
    {
      "cell_type": "code",
      "source": [
        "def __hello_customer(self):\n",
        "    print(\"Say hello\")"
      ],
      "metadata": {
        "id": "Emi2jzaeT5F-"
      },
      "execution_count": null,
      "outputs": []
    },
    {
      "cell_type": "markdown",
      "source": [
        "## OOPs Pillars\n",
        "Object-Oriented Programming (OOP) has four pillars:\n",
        "1. Abstraction\n",
        "> Explained in lecture-8 A_College\n",
        "2. Encapsulation\n",
        "> Explained in lecture-8 A_College\n",
        "3. Inheritance\n",
        "4. Polymorphism"
      ],
      "metadata": {
        "id": "MHch_2dET8gT"
      }
    },
    {
      "cell_type": "markdown",
      "source": [
        "## Inheritance\n",
        "Inheritance allows a class (child/derived) to inherit properties and methods from another class (parent/base)."
      ],
      "metadata": {
        "id": "elGXbUsTVttU"
      }
    },
    {
      "cell_type": "code",
      "source": [
        "class Car:\n",
        "    @staticmethod\n",
        "    def start():\n",
        "        return \"Car started\"  # This method returns a string\n",
        "\n",
        "    @staticmethod\n",
        "    def stop():\n",
        "        print(\"Car stopped\")  # This method prints a message but returns None\n",
        "\n",
        "\n",
        "# car1.start()        → Returns \"Car started\", but nothing is printed unless you wrap it in print()\n",
        "# print(car1.start()) → Prints \"Car started\" (because print() displays the returned string)\n",
        "# car1.stop()         → Prints \"Car stopped\" but returns None\n",
        "# print(car1.stop())  → Prints \"Car stopped\" first, then prints None (the return value)\n",
        "\n",
        "# For inheritance, we pass the parent class to the Toyota class\n",
        "class Toyota(Car):\n",
        "    def __init__(self, name, color):\n",
        "        self.name = name\n",
        "        self.color = color\n",
        "\n",
        "car1 = Toyota(\"Fortuner\", \"Red\")\n",
        "print(car1.name)\n",
        "car1.start()\n",
        "print(car1.start())\n",
        "\n",
        "print(car1.stop())\n"
      ],
      "metadata": {
        "colab": {
          "base_uri": "https://localhost:8080/"
        },
        "id": "xAtwAntGyPh4",
        "outputId": "f248cf5d-76eb-4e0b-e964-e90bd462a02c"
      },
      "execution_count": 9,
      "outputs": [
        {
          "output_type": "stream",
          "name": "stdout",
          "text": [
            "Fortuner\n",
            "Car started\n",
            "Car stopped\n",
            "None\n"
          ]
        }
      ]
    },
    {
      "cell_type": "markdown",
      "source": [
        "## Types of Inheritance\n",
        "\n",
        "\n",
        "\n",
        "\n",
        "\n",
        "#### Single Inheritance:\n",
        "A single parent class and a single child class.\n",
        "\n",
        "\n",
        "\n",
        "#### Multilevel Inheritance:\n",
        "A single parent class, a child class, and a sub-child class. The sub-child inherits properties and methods from all parent classes above it. This can extend to multiple levels as needed.\n",
        "\n",
        "\n",
        "\n",
        "#### Multiple Inheritance:\n",
        "A single child class inherits from two or more parent classes."
      ],
      "metadata": {
        "id": "dv3SM9jMW7qA"
      }
    },
    {
      "cell_type": "code",
      "source": [
        "# Multiple inheritance\n",
        "\n",
        "class A:\n",
        "    var1 = \"welcome!\"\n",
        "\n",
        "class B:\n",
        "    var2 = \"hello\"\n",
        "\n",
        "class C(A, B):  # This is multiple inheritance\n",
        "    var3 = \"world\"\n",
        "\n",
        "obj1 = C()\n",
        "print(obj1.var1)\n",
        "print(obj1.var2)\n",
        "print(obj1.var3)"
      ],
      "metadata": {
        "colab": {
          "base_uri": "https://localhost:8080/"
        },
        "id": "UXD0t9UQXkdn",
        "outputId": "43d4e7b6-b8a9-4dd4-911d-75ea50b26f88"
      },
      "execution_count": null,
      "outputs": [
        {
          "output_type": "stream",
          "name": "stdout",
          "text": [
            "welcome\n",
            "hello\n",
            "world\n"
          ]
        }
      ]
    },
    {
      "cell_type": "markdown",
      "source": [
        "## Super Method\n",
        "\n",
        "The super() method is used to access methods or attributes of a parent class in inheritance.\n",
        "There are three ways to use method\n",
        "1. ### For initializing parent class attributes\n",
        "`super().__init__(parent_attribute_name)`\n",
        "2. ### For calling parent methods\n",
        "`super().method_name()`\n",
        "3. ### For accessing parent attributes directly\n",
        "`super().attribute_name`\n",
        "\n",
        "\n"
      ],
      "metadata": {
        "id": "jZoBaOYKYN0h"
      }
    },
    {
      "cell_type": "markdown",
      "source": [
        "## Without super method - super()"
      ],
      "metadata": {
        "id": "LEvUStPocClm"
      }
    },
    {
      "cell_type": "code",
      "source": [
        "# Without super method\n",
        "\n",
        "class Car:\n",
        "  def __init__(self,type):\n",
        "      self.type = type\n",
        "  @staticmethod\n",
        "  def start():\n",
        "        print(\"Car started\")\n",
        "\n",
        "  @staticmethod\n",
        "  def stop():\n",
        "        print(\"Car stopped\")\n",
        "\n",
        "# For inheritance, we pass the parent class to the Toyota class\n",
        "class Toyota(Car):\n",
        "    def __init__(self, name, color, type):\n",
        "        self.name = name\n",
        "        self.color = color\n",
        "\n",
        "car1 = Toyota(\"Fortuner\", \"Red\",\"petrol\")\n",
        "print(car1.name)\n",
        "print(car1.type) #TypeError: Toyota.__init__() takes 3 positional arguments but 4 were given"
      ],
      "metadata": {
        "colab": {
          "base_uri": "https://localhost:8080/",
          "height": 193
        },
        "collapsed": true,
        "id": "405zSdQMZEoQ",
        "outputId": "0a8038c5-e869-4a18-e5b9-f27722dc56ab"
      },
      "execution_count": null,
      "outputs": [
        {
          "output_type": "stream",
          "name": "stdout",
          "text": [
            "Fortuner\n"
          ]
        },
        {
          "output_type": "error",
          "ename": "AttributeError",
          "evalue": "'Toyota' object has no attribute 'type'",
          "traceback": [
            "\u001b[0;31m---------------------------------------------------------------------------\u001b[0m",
            "\u001b[0;31mAttributeError\u001b[0m                            Traceback (most recent call last)",
            "\u001b[0;32m/tmp/ipython-input-1271511080.py\u001b[0m in \u001b[0;36m<cell line: 0>\u001b[0;34m()\u001b[0m\n\u001b[1;32m     18\u001b[0m \u001b[0mcar1\u001b[0m \u001b[0;34m=\u001b[0m \u001b[0mToyota\u001b[0m\u001b[0;34m(\u001b[0m\u001b[0;34m\"Fortuner\"\u001b[0m\u001b[0;34m,\u001b[0m \u001b[0;34m\"Red\"\u001b[0m\u001b[0;34m,\u001b[0m\u001b[0;34m\"petrol\"\u001b[0m\u001b[0;34m)\u001b[0m\u001b[0;34m\u001b[0m\u001b[0;34m\u001b[0m\u001b[0m\n\u001b[1;32m     19\u001b[0m \u001b[0mprint\u001b[0m\u001b[0;34m(\u001b[0m\u001b[0mcar1\u001b[0m\u001b[0;34m.\u001b[0m\u001b[0mname\u001b[0m\u001b[0;34m)\u001b[0m\u001b[0;34m\u001b[0m\u001b[0;34m\u001b[0m\u001b[0m\n\u001b[0;32m---> 20\u001b[0;31m \u001b[0mprint\u001b[0m\u001b[0;34m(\u001b[0m\u001b[0mcar1\u001b[0m\u001b[0;34m.\u001b[0m\u001b[0mtype\u001b[0m\u001b[0;34m)\u001b[0m \u001b[0;31m#TypeError: Toyota.__init__() takes 3 positional arguments but 4 were given\u001b[0m\u001b[0;34m\u001b[0m\u001b[0;34m\u001b[0m\u001b[0m\n\u001b[0m",
            "\u001b[0;31mAttributeError\u001b[0m: 'Toyota' object has no attribute 'type'"
          ]
        }
      ]
    },
    {
      "cell_type": "markdown",
      "source": [
        "## With super method - super()"
      ],
      "metadata": {
        "id": "D2zwjQg9b8cK"
      }
    },
    {
      "cell_type": "code",
      "source": [
        "# With super method\n",
        "class Car:\n",
        "  def __init__(self,type):\n",
        "      self.type = type\n",
        "  @staticmethod\n",
        "  def start():\n",
        "        print(\"Car started\")\n",
        "\n",
        "  @staticmethod\n",
        "  def stop():\n",
        "        print(\"Car stopped\")\n",
        "\n",
        "# For inheritance, we pass the parent class to the Toyota class\n",
        "class Toyota(Car):\n",
        "    def __init__(self, name, color, type):\n",
        "        super().__init__(type) # Call parent class constructor to initialize 'type'\n",
        "        self.name = name\n",
        "        self.color = color\n",
        "\n",
        "car1 = Toyota(\"Fortuner\", \"Red\",\"petrol\")\n",
        "print(car1.name)\n",
        "print(car1.type) # Now it shows the output #petrol"
      ],
      "metadata": {
        "colab": {
          "base_uri": "https://localhost:8080/"
        },
        "id": "_it1xSW3YuF5",
        "outputId": "31efcd9e-a6f9-453a-d7d8-163aa6c13d7a"
      },
      "execution_count": null,
      "outputs": [
        {
          "output_type": "stream",
          "name": "stdout",
          "text": [
            "Fortuner\n",
            "petrol\n"
          ]
        }
      ]
    },
    {
      "cell_type": "markdown",
      "source": [
        "# Class Methods\n",
        "A class method is bound to the class and receives the class itself as an implicit first argument.\n",
        "\n",
        "NOTE: Static methods are not bound to the class or its instances and do not receive the class or instance as an implicit argument. They cannot access or modify class or instance state and are typically used for utility functions related to the class but independent of its state\n"
      ],
      "metadata": {
        "id": "1NzU40sIdg29"
      }
    },
    {
      "cell_type": "code",
      "source": [
        "class Person:\n",
        "  name = \"Anonymous\"\n",
        "\n",
        "  def changeName(self, name):\n",
        "    self.name = name  #Here it is creating a new attribute,IT is not replacing class attribute changeName\n",
        "\n",
        "p1 = Person()\n",
        "p1.changeName(\"John\")\n",
        "print(p1.name)\n",
        "#the anonymouse also appear. It means the changeName function dosnt change the name in the class attribue.It is creating a new attribute for the instance/object\n",
        "print(Person.name)\n",
        "\n"
      ],
      "metadata": {
        "colab": {
          "base_uri": "https://localhost:8080/"
        },
        "id": "EAH6vXOKmDnF",
        "outputId": "7621c4a9-0b13-44a6-de90-6978bb238e1a"
      },
      "execution_count": null,
      "outputs": [
        {
          "output_type": "stream",
          "name": "stdout",
          "text": [
            "John\n",
            "Anonymous\n"
          ]
        }
      ]
    },
    {
      "cell_type": "markdown",
      "source": [
        "## change in the class attribute\n",
        "There are differecnt _indirect_ ways to change the attribute in the class\n",
        "1. `def changeName(self, name):\n",
        "    class_name.name = name`\n",
        "2. `def changeName(self, name)\n",
        "     self.__class__.name = \"John\" `\n",
        "\n",
        "*   List item\n",
        "*   List item\n",
        "\n"
      ],
      "metadata": {
        "id": "TerTHNJCpR9I"
      }
    },
    {
      "cell_type": "markdown",
      "source": [
        "## Method 1: Modifying Class Attribute Using Class Name"
      ],
      "metadata": {
        "id": "eIQaW3ytI_bB"
      }
    },
    {
      "cell_type": "code",
      "source": [
        "# Define the Person class with a class attribute 'name'\n",
        "class Person:\n",
        "    name = \"Anonymous\"  # Class attribute shared by all instances\n",
        "\n",
        "    # Method to change the class attribute 'name'\n",
        "    def changeName(self, name):\n",
        "        Person.name = name  # Directly modifies the class attribute using the class name\n",
        "\n",
        "# Create an instance of Person\n",
        "p1 = Person()\n",
        "\n",
        "# Call the changeName method to update the class attribute\n",
        "p1.changeName(\"John\")\n",
        "\n",
        "# Print the instance's name attribute (accesses the class attribute)\n",
        "print(p1.name)  # Output: John\n",
        "\n",
        "# Print the class attribute directly\n",
        "print(Person.name)  # Output: John"
      ],
      "metadata": {
        "colab": {
          "base_uri": "https://localhost:8080/"
        },
        "id": "YGhlhb_EpqOZ",
        "outputId": "51e20b8f-3938-4f93-937d-2ce9d4bf4742"
      },
      "execution_count": null,
      "outputs": [
        {
          "output_type": "stream",
          "name": "stdout",
          "text": [
            "John\n",
            "John\n"
          ]
        }
      ]
    },
    {
      "cell_type": "markdown",
      "source": [
        "## Method 2: Modifying Class Attribute Using `self.__class__`"
      ],
      "metadata": {
        "id": "_NRluMKYLxWi"
      }
    },
    {
      "cell_type": "code",
      "source": [
        "# Define the Person class with a class attribute 'name'\n",
        "class Person:\n",
        "    name = \"Anonymous\"  # Class attribute shared by all instances\n",
        "\n",
        "    # Method to change the class attribute 'name' dynamically\n",
        "    def changeName(self, name):\n",
        "        self.__class__.name = name  # Modifies the class attribute using the class reference\n",
        "\n",
        "# Create an instance of Person\n",
        "p1 = Person()\n",
        "\n",
        "# Call the changeName method to update the class attribute\n",
        "p1.changeName(\"John\")\n",
        "\n",
        "# Print the instance's name attribute (accesses the class attribute)\n",
        "print(p1.name)  # Output: John"
      ],
      "metadata": {
        "colab": {
          "base_uri": "https://localhost:8080/"
        },
        "id": "0S2GcQUlCHxP",
        "outputId": "37c0566f-6f38-42fd-8670-7c9d3817374b"
      },
      "execution_count": null,
      "outputs": [
        {
          "output_type": "stream",
          "name": "stdout",
          "text": [
            "John\n"
          ]
        }
      ]
    },
    {
      "cell_type": "markdown",
      "source": [
        "# Reasons to Prefer `self.__class__.name`\n",
        "\n",
        "### Dynamic Class Reference:\n",
        "\n",
        "Targets the instance’s class dynamically, adapting to class name changes.\n",
        "Example: Updates Employee.name in a subclass Employee(Person).\n",
        "\n",
        "\n",
        "### Support for Inheritance:\n",
        "\n",
        "Modifies the subclass’s attribute, not the parent’s, preventing bugs.\n",
        "Example: Updates Employee.name, not Person.name, for an Employee instance.\n",
        "\n",
        "\n",
        "### Code Maintainability:\n",
        "\n",
        "Avoids hardcoding class names, easing refactoring if renamed.\n",
        "Example: No updates needed if Person becomes Individual."
      ],
      "metadata": {
        "id": "YE6Jq2sdKkST"
      }
    },
    {
      "cell_type": "markdown",
      "source": [
        "#Method 3: Modifying Class Attribute using classmethods.\n",
        "__Definition of @classmethod in Python__\n",
        "\n",
        "A @classmethod is a Python decorator that defines a method which operates on the class itself, rather than an instance of the class. It takes the class as its first parameter (conventionally named cls), allowing direct access and modification of class attributes or execution of class-level operations"
      ],
      "metadata": {
        "id": "8CaKHGRJMDhA"
      }
    },
    {
      "cell_type": "code",
      "source": [
        "class Person:  # Defines the Person class\n",
        "    name = \"Anonymous\"  # Sets class attribute shared by all instances\n",
        "\n",
        "    @classmethod  # Decorator to define a class method\n",
        "    def changeName(cls, name):  # Defines class method with cls parameter for class reference\n",
        "        cls.name = name  # Updates class attribute using dynamic class reference\n",
        "\n",
        "p1 = Person()  # Creates instance of Person\n",
        "p1.changeName(\"John\")  # Calls class method to update class attribute to \"John\"\n",
        "print(p1.name)  # Prints class attribute via instance: \"John\""
      ],
      "metadata": {
        "colab": {
          "base_uri": "https://localhost:8080/"
        },
        "id": "Zu2QkBe9M0AN",
        "outputId": "5c41ead2-0b73-4cb6-f8de-a7c1c4229d4a"
      },
      "execution_count": null,
      "outputs": [
        {
          "output_type": "stream",
          "name": "stdout",
          "text": [
            "John\n"
          ]
        }
      ]
    },
    {
      "cell_type": "markdown",
      "source": [
        "### Python OOP Essentials: self vs cls vs staticmethod\n",
        "1. staticmethod\n",
        "2.class methods(cls)\n",
        "3.instance methods(self)"
      ],
      "metadata": {
        "id": "S-NXLtEYOmqg"
      }
    },
    {
      "cell_type": "code",
      "source": [
        "class Employee:\n",
        "\n",
        "    @staticmethod\n",
        "    def get_working_hours():\n",
        "        # 📌 STATIC METHOD: No access to self or cls\n",
        "        # 🏢 Analogy: A general rule like \"Office opens at 9 AM\"\n",
        "        # This rule is the same for everyone — employees, interns, visitors.\n",
        "        print(\"All employees must work 9 AM to 5 PM\")\n",
        "\n",
        "    @classmethod\n",
        "    def company_policy(cls):\n",
        "        # 📌 CLASS METHOD: Uses cls, not self\n",
        "        # 🏢 Analogy: HR department updating or accessing company-wide policies.\n",
        "        # These rules apply to all employees (like dress code or leave policy).\n",
        "        print(\"Company policy: All employees get 20 annual leaves\")\n",
        "\n",
        "    def __init__(self, name, role):\n",
        "        self.name = name\n",
        "        self.role = role\n",
        "\n",
        "    def show_profile(self):\n",
        "        # 📌 INSTANCE METHOD: Uses self\n",
        "        # 🧑‍💻 Analogy: Employee showing their personal profile\n",
        "        # This data is unique for each employee.\n",
        "        print(f\"My name is {self.name}, and I work as a {self.role}\")\n"
      ],
      "metadata": {
        "id": "M1pRZMHpT96w"
      },
      "execution_count": null,
      "outputs": []
    },
    {
      "cell_type": "code",
      "source": [
        "# 🔧 Create an employee object\n",
        "e1 = Employee(\"Ali\", \"Software Engineer\")\n",
        "\n",
        "# 👤 Instance method (employee-specific)\n",
        "e1.show_profile()\n",
        "# Output: My name is Ali, and I work as a Software Engineer\n",
        "\n",
        "# 🏛️ Class method (company-wide rules)\n",
        "Employee.company_policy()\n",
        "# Output: Company policy: All employees get 20 annual leaves\n",
        "\n",
        "# 🛠️ Static method (general rule/tool)\n",
        "Employee.get_working_hours()\n",
        "# Output: All employees must work 9 AM to 5 PM\n"
      ],
      "metadata": {
        "id": "oMQVGw5sWrMo"
      },
      "execution_count": null,
      "outputs": []
    },
    {
      "cell_type": "markdown",
      "source": [
        "# @property decorator\n",
        "__Question__\n",
        "\n",
        "I created a class with an attribute that calculates the percentage of marks. However, when I update one of the subject marks (e.g., phy), the percentage attribute doesn't reflect the change. Why is that happening"
      ],
      "metadata": {
        "id": "ZRMFdSHuX0HB"
      }
    },
    {
      "cell_type": "code",
      "source": [
        "class Student:\n",
        "    def __init__(self,phy,chem,com):\n",
        "        self.phy = phy\n",
        "        self.chem = chem\n",
        "        self.com = com\n",
        "        self.percentage = str((self.phy + self.chem + self.com)/ 3) + \"%\"\n",
        "\n",
        "\n",
        "s1 = Student(90,80,70)\n",
        "print(s1.percentage)\n",
        "\n",
        "s1.phy = 78  #value changed\n",
        "print(s1.percentage) # same output\n"
      ],
      "metadata": {
        "colab": {
          "base_uri": "https://localhost:8080/"
        },
        "id": "6B7-7VGfYEhl",
        "outputId": "38bbb23f-7266-4423-e8aa-9bd58974a27d"
      },
      "execution_count": null,
      "outputs": [
        {
          "output_type": "stream",
          "name": "stdout",
          "text": [
            "80.0%\n",
            "80.0%\n"
          ]
        }
      ]
    },
    {
      "cell_type": "markdown",
      "source": [
        "### Explanation:\n",
        "The issue is that percentage is calculated once during initialization (__init__) and stored as a fixed string. When you later change phy, the percentage value doesn't automatically update because it was already computed and stored."
      ],
      "metadata": {
        "id": "7ugefjVbPCy_"
      }
    },
    {
      "cell_type": "markdown",
      "source": [
        "### Solution (Use a property):\n",
        "\n",
        "> Add blockquote\n",
        "\n",
        "\n",
        "\n",
        "To make it dynamic, use a @property so it calculates the percentage every time you access"
      ],
      "metadata": {
        "id": "9K6x6sbvPKqr"
      }
    },
    {
      "cell_type": "code",
      "source": [
        "class Student:\n",
        "    def __init__(self,phy,chem,com):\n",
        "        self.phy = phy\n",
        "        self.chem = chem\n",
        "        self.com = com\n",
        "    @property  #Thischange the below method into property or attribute\n",
        "    def percentage(self):\n",
        "        return str((self.phy + self.chem + self.com)/ 3) + \"%\"\n",
        "\n",
        "\n",
        "s1 = Student(90,80,70)\n",
        "print(s1.percentage)\n",
        "\n",
        "s1.phy = 78  #Value changed\n",
        "print(s1.percentage) # Output also changed"
      ],
      "metadata": {
        "colab": {
          "base_uri": "https://localhost:8080/"
        },
        "id": "Pq3qgiCLPY-_",
        "outputId": "2444bc5e-cfc8-4fc4-c1fb-c591f500d3f0"
      },
      "execution_count": null,
      "outputs": [
        {
          "output_type": "stream",
          "name": "stdout",
          "text": [
            "80.0%\n",
            "76.0%\n"
          ]
        }
      ]
    },
    {
      "cell_type": "markdown",
      "source": [
        "### getter and setter. need more understanding"
      ],
      "metadata": {
        "id": "gSDh7mojXYap"
      }
    },
    {
      "cell_type": "code",
      "source": [
        "class Student:\n",
        "    def __init__(self, phy, chem, com):\n",
        "        self.phy = phy\n",
        "        self.chem = chem\n",
        "        self.com = com\n",
        "\n",
        "    @property  # This is the getter\n",
        "    def percentage(self):\n",
        "        return (self.phy + self.chem + self.com) / 3\n",
        "\n",
        "    @percentage.setter  # This is the setter\n",
        "    def percentage(self, new_percent):\n",
        "        # Set all marks equally to match the new percent\n",
        "        self.phy = self.chem = self.com = new_percent\n",
        "\n",
        "s1 = Student(90, 80, 70)\n",
        "print(s1.percentage)  # calls the getter → 80.0\n",
        "\n",
        "s1.chem = 95\n",
        "print(s1.percentage)\n",
        "\n",
        "s1.percentage = 67    # calls the setter → sets all marks to 85\n",
        "print(s1.phy)         # 85\n",
        "print(s1.percentage)  # 85.0 (recalculated)\n"
      ],
      "metadata": {
        "colab": {
          "base_uri": "https://localhost:8080/"
        },
        "id": "KnyMwLSrVMqq",
        "outputId": "72ed1d3d-7139-44d8-b7d3-24efa4434696"
      },
      "execution_count": null,
      "outputs": [
        {
          "output_type": "stream",
          "name": "stdout",
          "text": [
            "80.0\n",
            "85.0\n",
            "67\n",
            "67.0\n"
          ]
        }
      ]
    },
    {
      "cell_type": "markdown",
      "source": [
        "# Polymorphism: Operator Overloading\n",
        "Poly = many\n",
        "Morph = form or shape\n",
        "\n",
        "So, polymorphism literally means \"many forms\".In programming,It refers to the ability of a single function, method, or operator to behave differently based on the context — like different classes or data types\n",
        "\n",
        "\n",
        "# When the same operator is allowed to have different meaning according to the context.\n",
        "\n",
        " Notes:\n",
        "1. Dunder stands for \"Double UNDerscore\" (e.g., __add__)\n",
        "\n",
        "2. These methods allow you to override behavior of operators in custom classes\n",
        "\n",
        "3. They're also called magic methods or special methods\n"
      ],
      "metadata": {
        "id": "5mN0bZiDYqcU"
      }
    },
    {
      "cell_type": "markdown",
      "source": [
        "\n",
        "Python Operators & Their Dunder (Magic) Methods\n",
        "\n",
        "| Operation           | Symbol  | Description            | Dunder Method Equivalent |\n",
        "| ------------------- | ------- | ---------------------- | ------------------------ |\n",
        "| Addition            | `a + b` | Adds `a` and `b`       | `a.__add__(b)`           |\n",
        "| Subtraction         | `a - b` | Subtracts `b` from `a` | `a.__sub__(b)`           |\n",
        "| Multiplication      | `a * b` | Multiplies `a` and `b` | `a.__mul__(b)`           |\n",
        "| Division            | `a / b` | Divides `a` by `b`     | `a.__truediv__(b)`       |\n",
        "| Modulus (Remainder) | `a % b` | Remainder of `a / b`   | `a.__mod__(b)`           |"
      ],
      "metadata": {
        "id": "RSah6QtOZKra"
      }
    },
    {
      "cell_type": "code",
      "source": [
        "# Operator Overloading\n",
        "# Here the + operator different meaning according to different data types. This is called Operator Overloading\n",
        "print(4 + 5)  #9\n",
        "print(\"Wel\" + \"come\") #concatenate\n",
        "print([1,2,3,4] + [4,5,6,7,8]) #merge\n"
      ],
      "metadata": {
        "colab": {
          "base_uri": "https://localhost:8080/"
        },
        "id": "SwwYsh26XiB8",
        "outputId": "27e2942c-87b9-4e4f-bbba-c8fac9c347e2"
      },
      "execution_count": null,
      "outputs": [
        {
          "output_type": "stream",
          "name": "stdout",
          "text": [
            "9\n",
            "Welcome\n",
            "[1, 2, 3, 4, 4, 5, 6, 7, 8]\n"
          ]
        }
      ]
    },
    {
      "cell_type": "markdown",
      "source": [
        "# Understading the Need of Polymorphism\n",
        "\n",
        "class Complex:"
      ],
      "metadata": {
        "id": "JCV363sRm9W9"
      }
    },
    {
      "cell_type": "code",
      "source": [
        "class Complex:\n",
        "  def __init__(self, real, imag):\n",
        "    self.real = real\n",
        "    self.imag = imag\n",
        "\n",
        "  def show_num(self):\n",
        "    print(self.real, \"-\", self.imag,\"j\")\n",
        "\n",
        "  def __add__(self, c3):\n",
        "    newreal = self.real + c2.imag\n",
        "    newimag = self.imag + c2.imag\n",
        "    return Complex(newreal, newimag)\n",
        "\n",
        "\n",
        "\n",
        "c1 = Complex(1,2)\n",
        "c1.show_num()\n",
        "c2 = Complex(3,4)\n",
        "c2.show_num()\n",
        "\n",
        "c3 = c1 + c2\n",
        "c3.show_num()\n",
        "print(c1 + c2)"
      ],
      "metadata": {
        "colab": {
          "base_uri": "https://localhost:8080/"
        },
        "id": "c-V_bt_lnKlV",
        "outputId": "272eb514-406c-4a71-d002-04f7d497b01e"
      },
      "execution_count": null,
      "outputs": [
        {
          "output_type": "stream",
          "name": "stdout",
          "text": [
            "1 - 2 j\n",
            "3 - 4 j\n",
            "5 - 6 j\n",
            "<__main__.Complex object at 0x7b5459e85710>\n"
          ]
        }
      ]
    },
    {
      "cell_type": "markdown",
      "source": [
        "# --------------------------------------- Practice Section -----------------------------------------\n",
        "\n",
        "\n"
      ],
      "metadata": {
        "id": "ux4Uvs5ZzFhz"
      }
    },
    {
      "cell_type": "markdown",
      "source": [
        "####Problem 1\n",
        "Define a Circle class to create a circle with a given radius using the constructor\n",
        "Define an area method that calculates the area of the circle\n",
        "Define a perimeter method that calculates the perimeter (circumference) of the circle"
      ],
      "metadata": {
        "id": "MKztGxSo0IvR"
      }
    },
    {
      "cell_type": "code",
      "source": [
        "class circle:\n",
        "  def __init__(self, radius):\n",
        "    self.radius = radius\n",
        "\n",
        "  def area(self):\n",
        "    return 3.14 * self.radius ** 2\n",
        "\n",
        "  def perimeter(self):\n",
        "    return self.radius * 2 * 3.14\n",
        "\n",
        "c1 = circle(21)\n",
        "print(c1.area())\n",
        "print(c1.perimeter())\n"
      ],
      "metadata": {
        "colab": {
          "base_uri": "https://localhost:8080/"
        },
        "id": "YG3NkTPJto1f",
        "outputId": "d7a6a3bf-866e-4db2-885a-6db1c029e871"
      },
      "execution_count": null,
      "outputs": [
        {
          "output_type": "stream",
          "name": "stdout",
          "text": [
            "1384.74\n",
            "131.88\n"
          ]
        }
      ]
    },
    {
      "cell_type": "markdown",
      "source": [
        "####Problem 2\n",
        "Create a class Employee with attributes role, department, and salary, and a method showDetails() to display them.\n",
        "Create a subclass Engineer with additional attributes name and age, overriding showDetails() to display both inherited and new attributes."
      ],
      "metadata": {
        "id": "kmNaakjD0X39"
      }
    },
    {
      "cell_type": "code",
      "source": [
        "class Employee:\n",
        "  def __init__(self, role, department, salary):\n",
        "    self.role = role\n",
        "    self.department = department\n",
        "    self.salary = salary\n",
        "\n",
        "  def showDetails(self):\n",
        "    print(\"role =\", self.role, \"\\ndepartment =\", self.department, \"\\nsalary =\", self.salary)\n",
        "\n",
        "# Create one more class engineer that inherite the class employee and hass attributes, name and age\n",
        "class Engineer(Employee):\n",
        "  def __init__(self, name, age, role, department, salary):\n",
        "    super().__init__(role, department, salary) # Pass role, department, and salary to the parent class constructor\n",
        "    self.name = name\n",
        "    self.age  = age\n",
        "\n",
        "  def showDetails(self):\n",
        "    super().showDetails()\n",
        "    print(\"name =\", self.name, \"\\nage =\", self.age)\n",
        "\n",
        "\n",
        "\n",
        "empl = Employee(\"Manager\", \"Sales\", 50000)\n",
        "empl.showDetails()\n",
        "\n",
        "e1 = Engineer(\"Hassan\", 20, \"Supervisor\", \"Production\", 70000)\n",
        "e1.showDetails()\n"
      ],
      "metadata": {
        "colab": {
          "base_uri": "https://localhost:8080/"
        },
        "id": "8MlbBUOuB9tG",
        "outputId": "e9795750-e9bf-4aca-84c2-c7ec33889a29"
      },
      "execution_count": 11,
      "outputs": [
        {
          "output_type": "stream",
          "name": "stdout",
          "text": [
            "role = Manager \n",
            "department = Sales \n",
            "salary = 50000\n",
            "role = Supervisor \n",
            "department = Production \n",
            "salary = 70000\n",
            "name = Hassan \n",
            "age = 20\n"
          ]
        }
      ]
    },
    {
      "cell_type": "markdown",
      "source": [
        "### Composition design in python\n",
        "\n",
        "In object-oriented programming, composition is a design principle where a class contains objects of other classes instead of inheriting from them.\n",
        "It represents a \"has-a\" relationship — for example, a Manager has an Engineer and has an Employee.\n",
        "This allows code reuse without the tight coupling of inheritance."
      ],
      "metadata": {
        "id": "ZwLs2js46yvs"
      }
    },
    {
      "cell_type": "code",
      "source": [
        "class Manager:\n",
        "    def __init__(self, nationality, eng_record: Engineer, emp_record: Employee):\n",
        "        self.nationality = nationality   # String attribute\n",
        "        self.eng_record = eng_record     # Holds Engineer object\n",
        "        self.emp_record = emp_record     # Holds Employee object\n",
        "\n",
        "    def showDetails(self):\n",
        "        print(\"nationality =\", self.nationality)\n",
        "        self.eng_record.showDetails()    # Call Engineer's method\n",
        "        self.emp_record.showDetails()    # Call Employee's method\n",
        "\n",
        "\n",
        "# Create objects for composition\n",
        "empl = Employee(\"Manager\", \"Sales\", 50000)\n",
        "eng = Engineer(\"Hassan\", 20, \"Supervisor\", \"Production\", 70000)\n",
        "\n",
        "# Composition in action\n",
        "m1 = Manager(\"Pakistani\", eng, empl)\n",
        "m1.showDetails()\n",
        "\n"
      ],
      "metadata": {
        "colab": {
          "base_uri": "https://localhost:8080/"
        },
        "id": "8ozXV9im1l6L",
        "outputId": "57b2ace4-29b9-48ff-cd24-6b7808a8f8ce"
      },
      "execution_count": 13,
      "outputs": [
        {
          "output_type": "stream",
          "name": "stdout",
          "text": [
            "nationality = Pakistani\n",
            "role = Supervisor \n",
            "department = Production \n",
            "salary = 70000\n",
            "name = Hassan \n",
            "age = 20\n",
            "role = Manager \n",
            "department = Sales \n",
            "salary = 50000\n"
          ]
        }
      ]
    },
    {
      "cell_type": "markdown",
      "source": [
        "##### Problem 3:\n",
        "Create a class called Order which stores item and price.\n",
        "Use the dunder function __gt__ to convey that the price of order1 is greater than order2."
      ],
      "metadata": {
        "id": "FM5OJodG6_CD"
      }
    },
    {
      "cell_type": "code",
      "source": [
        "class Order:\n",
        " def __init__(self, item, price):\n",
        "  self.item = item\n",
        "  self.price = price\n",
        "\n",
        "ord1 = Order(\"chips\", 70)\n",
        "ord2 = Order(\"burger\", 100)\n",
        "\n",
        "print(ord1 > ord2)  # It's getting TypeError: '>' not supported between instances of 'Order' and 'Order'"
      ],
      "metadata": {
        "colab": {
          "base_uri": "https://localhost:8080/",
          "height": 106
        },
        "collapsed": true,
        "id": "YC2ud-j-Q1cZ",
        "outputId": "3b45e077-ad0d-4138-dde9-80c96fd95171"
      },
      "execution_count": null,
      "outputs": [
        {
          "output_type": "error",
          "ename": "IndentationError",
          "evalue": "unexpected indent (ipython-input-591478460.py, line 15)",
          "traceback": [
            "\u001b[0;36m  File \u001b[0;32m\"/tmp/ipython-input-591478460.py\"\u001b[0;36m, line \u001b[0;32m15\u001b[0m\n\u001b[0;31m    def __gt__(self):\u001b[0m\n\u001b[0m    ^\u001b[0m\n\u001b[0;31mIndentationError\u001b[0m\u001b[0;31m:\u001b[0m unexpected indent\n"
          ]
        }
      ]
    },
    {
      "cell_type": "markdown",
      "source": [
        "###Dunder functions\n",
        "(also called magic methods or special methods) in Python are special method names surrounded by double underscores (like __gt__, __init__, __len__).\n",
        "\n",
        "What makes them different from other methods is:\n",
        "\n",
        "They are not called directly in normal usage — Python calls them automatically when you use certain operators or built-in functions.\n",
        "\n",
        "They let you customize how your objects behave with operators and built-ins."
      ],
      "metadata": {
        "id": "KS5OeAGK_tDH"
      }
    },
    {
      "cell_type": "code",
      "source": [
        "# Here, the dunder function __gt__ comes in and solves the issue.\n",
        "\n",
        "class Order:\n",
        "  def __init__(self, item, price):\n",
        "    self.item = item\n",
        "    self.price = price\n",
        "\n",
        "  def __gt__(self, ord2):\n",
        "    return self.price > ord2.price\n",
        "\n",
        "ord1 = Order(\"chips\", 70)\n",
        "ord2 = Order(\"burger\", 100)\n",
        "\n",
        "print(ord1 > ord2)\n"
      ],
      "metadata": {
        "colab": {
          "base_uri": "https://localhost:8080/"
        },
        "id": "EFqMEr6oSbL5",
        "outputId": "a7b1da24-364b-4712-cfcb-9e50db8ffa0f"
      },
      "execution_count": null,
      "outputs": [
        {
          "output_type": "stream",
          "name": "stdout",
          "text": [
            "False\n"
          ]
        }
      ]
    }
  ]
}
